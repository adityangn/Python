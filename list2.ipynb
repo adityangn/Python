shopping =['Bread','Coffee','Curd']
print (shopping)